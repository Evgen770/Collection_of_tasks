{
 "metadata": {
  "language_info": {
   "codemirror_mode": {
    "name": "ipython",
    "version": 3
   },
   "file_extension": ".py",
   "mimetype": "text/x-python",
   "name": "python",
   "nbconvert_exporter": "python",
   "pygments_lexer": "ipython3",
   "version": "3.8.1-final"
  },
  "orig_nbformat": 2,
  "kernelspec": {
   "name": "python3",
   "display_name": "Python 3.8.1 64-bit",
   "metadata": {
    "interpreter": {
     "hash": "1baa965d5efe3ac65b79dfc60c0d706280b1da80fedb7760faf2759126c4f253"
    }
   }
  }
 },
 "nbformat": 4,
 "nbformat_minor": 2,
 "cells": [
  {
   "cell_type": "code",
   "execution_count": null,
   "metadata": {
    "tags": []
   },
   "outputs": [],
   "source": [
    "# Задание 1.1\n",
    "import math\n",
    "print(round(math.pi, 2))"
   ]
  },
  {
   "cell_type": "code",
   "execution_count": null,
   "metadata": {
    "tags": []
   },
   "outputs": [],
   "source": [
    "# Задание 1.2\n",
    "import math\n",
    "print(round(math.e, 2))"
   ]
  },
  {
   "cell_type": "code",
   "execution_count": null,
   "metadata": {
    "tags": []
   },
   "outputs": [],
   "source": [
    "# Задание 1.3\n",
    "def print_input(x):\n",
    "    x = round(x, 2)\n",
    "    print(f'Вы ввели число: {x}')\n",
    "\n",
    "print_input(float(input('Введите число: ')))\n"
   ]
  },
  {
   "cell_type": "code",
   "execution_count": null,
   "metadata": {
    "tags": []
   },
   "outputs": [],
   "source": [
    "# Задание 1.4\n",
    "def print_input(x):\n",
    "    x = round(x, 2)\n",
    "    print(f'{x} - вот какое число Вы ввели')\n",
    "\n",
    "print_input(float(input('Введите число: '))) "
   ]
  },
  {
   "cell_type": "code",
   "execution_count": null,
   "metadata": {
    "tags": []
   },
   "outputs": [],
   "source": [
    "# Задание 1.5\n",
    "print(1, 13, 49, sep=' ')"
   ]
  },
  {
   "cell_type": "code",
   "execution_count": null,
   "metadata": {
    "tags": []
   },
   "outputs": [],
   "source": [
    "# Задание 1.6\n",
    "print(7, 15, 100, sep='  ')"
   ]
  },
  {
   "cell_type": "code",
   "execution_count": null,
   "metadata": {
    "tags": []
   },
   "outputs": [],
   "source": [
    "# Задание 1.7\n",
    "import random\n",
    "a = random.randrange(0, 100)\n",
    "b = random.randrange(0, 100)\n",
    "c = random.randrange(0, 100)\n",
    "print(a, b, c, sep='  ')"
   ]
  },
  {
   "cell_type": "code",
   "execution_count": null,
   "metadata": {
    "tags": []
   },
   "outputs": [],
   "source": [
    "# Задание 1.8\n",
    "import random\n",
    "a = random.randrange(0, 100)\n",
    "b = random.randrange(0, 100)\n",
    "c = random.randrange(0, 100)\n",
    "d = random.randrange(0, 100)\n",
    "print(a, b, c, d, sep=' ')"
   ]
  },
  {
   "cell_type": "code",
   "execution_count": null,
   "metadata": {
    "tags": []
   },
   "outputs": [],
   "source": [
    "# Задание 1.9\n",
    "a = 50\n",
    "b = 10\n",
    "print(a, b, sep='\\n')"
   ]
  },
  {
   "cell_type": "code",
   "execution_count": null,
   "metadata": {
    "tags": []
   },
   "outputs": [],
   "source": [
    "# Задание 1.10\n",
    "a = 5\n",
    "b = 10\n",
    "c = 21\n",
    "print(a, b, c, sep='\\n')"
   ]
  },
  {
   "cell_type": "code",
   "execution_count": null,
   "metadata": {
    "tags": []
   },
   "outputs": [],
   "source": [
    "# Задание 1.11\n",
    "import random\n",
    "a = random.randrange(0, 100)\n",
    "b = random.randrange(0, 100)\n",
    "c = random.randrange(0, 100)\n",
    "d = random.randrange(0, 100)\n",
    "def print_num(*numbers):\n",
    "   for number in numbers:\n",
    "       print(number, end='\\n')\n",
    "\n",
    "print_num(a, b, c, d)\n"
   ]
  },
  {
   "cell_type": "code",
   "execution_count": null,
   "metadata": {
    "tags": []
   },
   "outputs": [],
   "source": [
    "# Задание 1.12(а)\n",
    "a = 5\n",
    "b = 10 \n",
    "c = 7\n",
    "print(f'{a} {b}\\n{c} см')"
   ]
  },
  {
   "cell_type": "code",
   "execution_count": null,
   "metadata": {
    "tags": []
   },
   "outputs": [],
   "source": [
    "# Задание 1.12(б)\n",
    "a = 100\n",
    "b =1949\n",
    "t = int(input('Введите число: '))\n",
    "v = int(input('Введите число: '))\n",
    "print(f'{a} {t}\\n{b} {v}')"
   ]
  },
  {
   "cell_type": "code",
   "execution_count": null,
   "metadata": {
    "tags": []
   },
   "outputs": [],
   "source": [
    "# Задание 1.12(в)\n",
    "a = 25\n",
    "x = int(input('Введите число: '))\n",
    "y = int(input('Введите число: '))\n",
    "print(f'{x} {a}\\n{x} {y}')"
   ]
  },
  {
   "cell_type": "code",
   "execution_count": null,
   "metadata": {
    "tags": []
   },
   "outputs": [],
   "source": [
    "# Задание 1.13(а)\n",
    "a = 2\n",
    "b = 13\n",
    "c = 17\n",
    "print(f'{a} кг\\n{b} {c}')\n"
   ]
  },
  {
   "cell_type": "code",
   "execution_count": null,
   "metadata": {
    "tags": []
   },
   "outputs": [],
   "source": [
    "# Задание 1.13(б)\n",
    "a = int(input('Введите число: '))\n",
    "b = int(input('Введите число: '))\n",
    "c = 1\n",
    "d = 19\n",
    "print(f'{a} {c}\\n{d} {b}')"
   ]
  },
  {
   "cell_type": "code",
   "execution_count": null,
   "metadata": {
    "tags": []
   },
   "outputs": [],
   "source": [
    "# Задание 1.13(в)\n",
    "x = int(input('Введите число: '))\n",
    "y = int(input('Введите число: '))\n",
    "c = 5\n",
    "print(f'{x} {y}\\n{c} {y}')"
   ]
  },
  {
   "cell_type": "code",
   "execution_count": null,
   "metadata": {},
   "outputs": [],
   "source": [
    "#Задание 1.14\n",
    "import math\n",
    "а) 2*x\n",
    "б) math.sin(x) # X - указывается в радианах\n",
    "в) a**2\n",
    "г) math.sqrt(x)\n",
    "д) abs(n)\n",
    "е) 5*math.cos(y) # Y - указывается в радианах\n",
    "ж) (-7.5)*(a**2)\n",
    "з) 3*math.sqrt(x)\n",
    "и) (math.sin(Alpha)*math.cos(Beta))+(math.cos(Alpha)*math.cos(Beta)) #  Alpha и Beta - указываются в радианах\n",
    "к) a*math.sqrt(2*b)\n",
    "л) 3*math.sin(2*Alpha)*math.cos(3*Beta) #  Alpha и Beta - указываются в радианах\n",
    "м) -5*(math.sqrt(x+math.sqrt(y)))"
   ]
  },
  {
   "cell_type": "code",
   "execution_count": null,
   "metadata": {},
   "outputs": [],
   "source": [
    "# Задание 1.15\n",
    "import math\n",
    "а) (-1)/(x**2)\n",
    "б) a/(b*c)\n",
    "в) (a/b)*c\n",
    "г) (a+b)/2\n",
    "д) (5.45)*((a+2*b)/(2-a))\n",
    "е) ((-b)+(math.sqrt((b**2)-4*a*c))/2*a\n",
    "ж) ((-b)+(1/a))/(2/c)\n",
    "з) 1/(1+((a+b)/2)\n",
    "и) 1/(1+(1/(2+(1/(2+(3/5))))))\n",
    "к) 2**(m**n)"
   ]
  },
  {
   "cell_type": "code",
   "execution_count": null,
   "metadata": {},
   "outputs": [],
   "source": [
    "# Задание 1.17\n",
    "import math\n",
    "а) math.sqrt(x1**2 + x2**2)\n",
    "б) x1*x2 + x1*x3 + x2*x3\n",
    "в) (v0*t) + ((a*(t**2))/2)\n",
    "г) ((m*(v**2)/2)+ m*g*h\n",
    "д) (1/R1) + (1/R2)\n",
    "е) m*g*math.cos(Alpha) # Alpha - указывается в радианах\n",
    "ж) 2*math.pi*R\n",
    "з) b**2-(4*a*c)\n",
    "и) Gamma*((m1*m2)/r**2)\n",
    "к) I**2 * R\n",
    "л) a*b*math.sin(c) # C - указывается в радианах\n",
    "м) math.sqrt(a**2 + b**2 - 2*a*b*math.cos(c)) # C - указывается в радианах\n",
    "н) (a*b + b*c)/a*d\n",
    "о) math.sqrt(1-(math.sin(x)**2))\n",
    "п) 1/(math.sqrt(a*x**2 + b*x + c))\n",
    "р) (math.sqrt(x+1)+math.sqrt(x-1))/2*math.sqrt(x)\n",
    "с) abs(x)+abs(x+1)\n",
    "т) abs(1-abs(x))"
   ]
  },
  {
   "cell_type": "code",
   "execution_count": null,
   "metadata": {
    "tags": []
   },
   "outputs": [],
   "source": [
    "# Задание 1.18(а)\n",
    "s=5\n",
    "assert s==5\n",
    "print(s)\n",
    "s=57\n",
    "assert s==57\n",
    "print(s)"
   ]
  },
  {
   "cell_type": "code",
   "execution_count": null,
   "metadata": {
    "tags": []
   },
   "outputs": [],
   "source": [
    "# Задание 1.18(б)\n",
    "s=6\n",
    "assert s==6\n",
    "print(s)\n",
    "s=-5.2*s\n",
    "assert s==-31.200000000000003\n",
    "print(s)\n",
    "s=0\n",
    "assert s==0\n",
    "print(s)"
   ]
  },
  {
   "cell_type": "code",
   "execution_count": null,
   "metadata": {
    "tags": []
   },
   "outputs": [],
   "source": [
    "# Задание 1.18(в)\n",
    "s=-7.5\n",
    "assert s==-7.5\n",
    "print(s)\n",
    "s=2*s\n",
    "assert s==-15\n",
    "print(s)"
   ]
  },
  {
   "cell_type": "code",
   "execution_count": null,
   "metadata": {
    "tags": []
   },
   "outputs": [],
   "source": [
    "# Задание 1.18(г)\n",
    "s=45\n",
    "assert s==45\n",
    "print(s)\n",
    "s=-25\n",
    "assert s==-25\n",
    "print(s)\n",
    "#s=s+k # Ошибка: нет переменной 'k'\n",
    "assert s==-25\n",
    "print(s)"
   ]
  },
  {
   "cell_type": "code",
   "execution_count": null,
   "metadata": {
    "tags": []
   },
   "outputs": [],
   "source": [
    "# Задание 1.19(а)\n",
    "x=10\n",
    "assert x==10\n",
    "print(x)\n",
    "x=-10\n",
    "assert x==-10\n",
    "print(x)"
   ]
  },
  {
   "cell_type": "code",
   "execution_count": null,
   "metadata": {
    "tags": []
   },
   "outputs": [],
   "source": [
    "# Задание 1.19(б)\n",
    "x=17.5\n",
    "assert x==17.5\n",
    "print(x)\n",
    "x=-2*x\n",
    "assert x==-35\n",
    "print(x)"
   ]
  },
  {
   "cell_type": "code",
   "execution_count": null,
   "metadata": {
    "tags": []
   },
   "outputs": [],
   "source": [
    "# Задание 1.19(в)\n",
    "x=60\n",
    "assert x==60\n",
    "print(x)\n",
    "x=x-1\n",
    "assert x==59\n",
    "print(x)\n",
    "x=0\n",
    "assert x==0\n",
    "print(x)"
   ]
  },
  {
   "cell_type": "code",
   "execution_count": null,
   "metadata": {
    "tags": []
   },
   "outputs": [],
   "source": [
    "# Задание 1.19(г)\n",
    "x=-50\n",
    "assert x==-50\n",
    "print(x)\n",
    "x=-25\n",
    "assert x==-25\n",
    "print(x)\n",
    "#x=x+k # Ошибка: нет переменной 'k'\n",
    "assert x==-25\n",
    "print(x)"
   ]
  },
  {
   "cell_type": "code",
   "execution_count": null,
   "metadata": {
    "tags": []
   },
   "outputs": [],
   "source": [
    "# Задание 1.20(а)\n",
    "s=14\n",
    "k=-3\n",
    "assert(s==14, k==-3)\n",
    "print(s, k)\n",
    "d=s+1\n",
    "s=d\n",
    "assert(d==15, s==15)\n",
    "print(s)\n",
    "k=2*s\n",
    "assert(k==30)\n",
    "print(k)\n"
   ]
  },
  {
   "cell_type": "code",
   "execution_count": null,
   "metadata": {
    "tags": []
   },
   "outputs": [],
   "source": [
    "# Задание 1.20(б)\n",
    "s=0\n",
    "k=30\n",
    "assert(s==0, k==30)\n",
    "print(s, k)\n",
    "d=k-5\n",
    "k=2*d\n",
    "assert(d==25, k==50)\n",
    "print(k)\n",
    "s=k-100\n",
    "assert(s==-50)\n",
    "print(s)"
   ]
  },
  {
   "cell_type": "code",
   "execution_count": null,
   "metadata": {
    "tags": []
   },
   "outputs": [],
   "source": [
    "# Задание 1.21(а)\n",
    "a=5.8\n",
    "b=-7.9\n",
    "assert(a==5.8, b==-7.9)\n",
    "print(a, b)\n",
    "b=a\n",
    "assert(b==5.8)\n",
    "print(b)\n",
    "a=b\n",
    "assert(a==5.8)\n",
    "print(a)"
   ]
  },
  {
   "cell_type": "code",
   "execution_count": null,
   "metadata": {
    "tags": []
   },
   "outputs": [],
   "source": [
    "# Задание 1.21(б)\n",
    "a=0\n",
    "b=-9.99\n",
    "assert(a==0, b==-9.99)\n",
    "print(a, b)\n",
    "b=a\n",
    "assert(b==0)\n",
    "print(b)\n",
    "a=b\n",
    "assert(a==0)\n",
    "print(a)"
   ]
  },
  {
   "cell_type": "code",
   "execution_count": null,
   "metadata": {
    "tags": []
   },
   "outputs": [],
   "source": [
    "# Задание 1.22(а)\n",
    "x = float(input('Введите значеие \"Х\": '))\n",
    "def func_name(x):\n",
    "    y = 7*x**2 - 3*x+6\n",
    "    y = round(y, 2)\n",
    "    return(y)\n",
    "print(func_name(x))\n"
   ]
  },
  {
   "cell_type": "code",
   "execution_count": null,
   "metadata": {
    "tags": []
   },
   "outputs": [],
   "source": [
    "# Задание 1.22(б)\n",
    "a = float(input('Введите значение \"А\": '))\n",
    "def func_name(a):\n",
    "    x = 12*a**2 + 7*a - 16\n",
    "    x = round(x, 2)\n",
    "    return(x)\n",
    "print(func_name(a))"
   ]
  },
  {
   "cell_type": "code",
   "execution_count": null,
   "metadata": {
    "tags": []
   },
   "outputs": [],
   "source": [
    "# Задание 1.23\n",
    "import math\n",
    "a = float(input('Введите значение \"А\": '))\n",
    "def func_name(a):\n",
    "    y = (a**2 + 10)/(math.sqrt(a**2 + 1))\n",
    "    y = round(y, 2)\n",
    "    return(y)\n",
    "print(func_name(a))"
   ]
  },
  {
   "cell_type": "code",
   "execution_count": null,
   "metadata": {
    "tags": []
   },
   "outputs": [],
   "source": [
    "# Задание 1.24(а)\n",
    "import math\n",
    "a = float(input('Введите значение \"А\": '))\n",
    "def func_name(a):\n",
    "    x = (2*a + math.sin(abs(3*a)))/3.56\n",
    "    if x >= 0:\n",
    "        x = math.sqrt(x)\n",
    "        x = round(x, 2)\n",
    "        return(x)\n",
    "    else:\n",
    "       return('Нет решений')\n",
    "\n",
    "print(func_name(a))"
   ]
  },
  {
   "cell_type": "code",
   "execution_count": null,
   "metadata": {
    "tags": []
   },
   "outputs": [],
   "source": [
    "# Задание 1.24(б)\n",
    "import math\n",
    "x = float(input('Введите значение \"X\": '))\n",
    "def func_name(x):\n",
    "    if (x+1)>=0:\n",
    "        y = math.sin((3.2+math.sqrt(1+x))/abs(5*x))\n",
    "        y = round(y, 2)\n",
    "        return(y)\n",
    "    else:\n",
    "        return('Нет решений')\n",
    "print(func_name(x))        \n"
   ]
  },
  {
   "cell_type": "code",
   "execution_count": null,
   "metadata": {
    "tags": []
   },
   "outputs": [],
   "source": [
    "# Задание 1.25\n",
    "x = float(input('Введите значение стороны квадрата: '))\n",
    "def perimeter_square(x):\n",
    "    P = 4*x\n",
    "    P = round(P, 2)\n",
    "    return(P)\n",
    "print(perimeter_square(x))"
   ]
  },
  {
   "cell_type": "code",
   "execution_count": null,
   "metadata": {
    "tags": []
   },
   "outputs": [],
   "source": [
    "# Задание 1.26\n",
    "x = float(input('Введите значение радиуса окружности: '))\n",
    "def diameter_circle(x):\n",
    "    D = 2*x\n",
    "    D = round(D, 2)\n",
    "    return(D)\n",
    "print(diameter_circle(x))"
   ]
  },
  {
   "cell_type": "code",
   "execution_count": null,
   "metadata": {
    "tags": []
   },
   "outputs": [],
   "source": [
    "# Задание 1.27\n",
    "h = float(input('Введите значение высоты над Землей: '))\n",
    "R = 6350\n",
    "def func_name(h, R):\n",
    "    d = math.sqrt(h*(2*R + h))\n",
    "    d = round(d, 2)\n",
    "    return(d)\n",
    "print(func_name(h, R))"
   ]
  },
  {
   "cell_type": "code",
   "execution_count": null,
   "metadata": {
    "tags": []
   },
   "outputs": [],
   "source": [
    "# Задание 1.28\n",
    "h = float(input('Введите значение ребра куба '))\n",
    "def cube_volume(h):\n",
    "    V = h**3\n",
    "    V = round(V, 2)\n",
    "    return(V)\n",
    "def cube_lateral_surface_area(h):  \n",
    "    S = 6*(h**2)\n",
    "    S = round(S, 2)\n",
    "    return(S)\n",
    "\n",
    "print(cube_volume(h), cube_lateral_surface_area(h), sep='\\n')\n",
    "\n"
   ]
  },
  {
   "cell_type": "code",
   "execution_count": null,
   "metadata": {
    "tags": []
   },
   "outputs": [],
   "source": [
    "# Задание 1.29\n",
    "import math\n",
    "R = float(input('Введите значение радиуса окружности '))\n",
    "def perimeter_circle(R):\n",
    "    P = 2*math.pi*R\n",
    "    P = round(P, 2)\n",
    "    return(P)\n",
    "def area_circle(R):  \n",
    "    S = math.pi*(R**2)\n",
    "    S = round(S, 2)\n",
    "    return(S)\n",
    "\n",
    "print(perimeter_circle(R), area_circle(R), sep='\\n')"
   ]
  },
  {
   "cell_type": "code",
   "execution_count": null,
   "metadata": {
    "tags": []
   },
   "outputs": [],
   "source": [
    "# Задание 1.30(а)\n",
    "x = float(input('Введите значение \"X\": '))\n",
    "y = float(input('Введите значение \"Y\": '))\n",
    "def func_name(x, y):\n",
    "    z = x**3 - 2.5*x*y + 1.78*(x**2) - 2.5*y + 1\n",
    "    z = round(z, 2)\n",
    "    return(z)\n",
    "\n",
    "print(func_name(x, y))"
   ]
  },
  {
   "cell_type": "code",
   "execution_count": null,
   "metadata": {
    "tags": []
   },
   "outputs": [],
   "source": [
    "# Задание 1.30(б)\n",
    "a = float(input('Введите значение \"A\": '))\n",
    "b = float(input('Введите значение \"B\": '))\n",
    "def func_name(a, b):\n",
    "    x = 3.56*a + b**3 - 5.8*(b**2) + 3.8*a - 1.5\n",
    "    x = round(x, 2)\n",
    "    return(x)\n",
    "print(func_name(a, b))"
   ]
  },
  {
   "cell_type": "code",
   "execution_count": null,
   "metadata": {
    "tags": []
   },
   "outputs": [],
   "source": [
    "# Задание 1.31\n",
    "import math\n",
    "a = int(input('Введите значение \"A\": '))\n",
    "b = int(input('Введите значение \"B\": '))\n",
    "def average(*numbers):\n",
    "    x = 0\n",
    "    for number in numbers:\n",
    "        x += number\n",
    "    y = x/len(numbers)\n",
    "    y = round(y, 2)\n",
    "    return(y)\n",
    "\n",
    "def geometric_average(*numbers):\n",
    "    x = 1\n",
    "    for number in numbers:\n",
    "        x *= number\n",
    "    y = round(x**(1.0/len(numbers)), 2)\n",
    "    return(y)            \n",
    "  \n",
    "print(average(a, b), geometric_average(a, b), sep='\\n')  "
   ]
  },
  {
   "cell_type": "code",
   "execution_count": null,
   "metadata": {
    "tags": []
   },
   "outputs": [],
   "source": [
    "# Задание 1.32\n",
    "m = float(input('Введите массу (кг): '))\n",
    "V = float(input('Введите объем (м**3): '))\n",
    "def material_density(m, V):\n",
    "    p = m/V\n",
    "    p = round(p, 2)\n",
    "    return(p)\n",
    "\n",
    "print(f'{material_density(m, V)} кг/м**3')"
   ]
  },
  {
   "cell_type": "code",
   "execution_count": null,
   "metadata": {
    "tags": []
   },
   "outputs": [],
   "source": [
    "# Задание 1.33\n",
    "m = float(input('Введите количество жителей: '))\n",
    "S = float(input('Введите площадь территории (км**2): '))\n",
    "def population_density(m, S):\n",
    "    p = m/S\n",
    "    p = round(p)\n",
    "    return(p)\n",
    "\n",
    "print(f'Число жителей на квадратный километр: {population_density(m, S)}')"
   ]
  },
  {
   "cell_type": "code",
   "execution_count": null,
   "metadata": {
    "tags": []
   },
   "outputs": [],
   "source": [
    "# Задание 1.34\n",
    "a = float(input('Введите значение \"A\" (А не равно 0!): '))\n",
    "b = float(input('Введите значение \"B\": '))\n",
    "\n",
    "# ax + b = 0\n",
    "# ax = -b\n",
    "# x = -b/a\n",
    "\n",
    "if a == 0:\n",
    "    print('\"А\" не может равняться 0')\n",
    "else:\n",
    "    x = round((-b/a), 2)\n",
    "    print(f'\"X\" равен: {x}')    \n"
   ]
  },
  {
   "cell_type": "code",
   "execution_count": null,
   "metadata": {
    "tags": []
   },
   "outputs": [],
   "source": [
    "# Задание 1.35\n",
    "import math\n",
    "a = float(input('Введите значение катета \"A\": '))\n",
    "b = float(input('Введите значение катета \"B\": '))\n",
    "print(f'Гипотенуза равна: {round(math.hypot(a, b), 2)}')"
   ]
  },
  {
   "cell_type": "code",
   "execution_count": null,
   "metadata": {
    "tags": []
   },
   "outputs": [],
   "source": [
    "# Задание 1.36\n",
    "import math\n",
    "R_1 = float(input('Введите значение внешнего радиуса: '))\n",
    "R_2 = float(input('Введите значение внутреннего радиуса: '))\n",
    "if R_1>R_2:\n",
    "    S_1 = area_circle(R_1) # Площадь большого круга\n",
    "    S_2 = area_circle(R_2) # Площадь малого круга\n",
    "    S = round((S_1 - S_2), 2) # Площадь кольца равна разнице площадей большого и малого круга\n",
    "    print(f'Площадь кольца равна: {S}')\n",
    "else:\n",
    "    print('Значение внешнего радиуса не может быть меньше внутреннего!')    "
   ]
  },
  {
   "cell_type": "code",
   "execution_count": null,
   "metadata": {
    "tags": []
   },
   "outputs": [],
   "source": [
    "# Задание 1.37\n",
    "import math\n",
    "a = float(input('Введите значение катета \"A\": '))\n",
    "b = float(input('Введите значение катета \"B\": '))\n",
    "def perimetr_right_triangle(a, b):\n",
    "    P = a + b + math.hypot(a, b)\n",
    "    P = round(P, 2)\n",
    "    return(P)\n",
    "\n",
    "print(f'Периметр равен {perimetr_right_triangle(a, b)}')"
   ]
  },
  {
   "cell_type": "code",
   "execution_count": null,
   "metadata": {
    "tags": []
   },
   "outputs": [],
   "source": [
    "# Задание 1.38\n",
    "import math\n",
    "b = float(input('Введите значение \"меньшего\" основания \"B\": '))\n",
    "d = float(input('Введите значение \"большего\" основания \"D\": '))\n",
    "h = float(input('Введите значение высоты \"h\": '))\n",
    "def perimetr_isosceles_trapezoids(b, d, h):\n",
    "    e = (d-b)/2 # катет прямоугольного треугольника\n",
    "    #c = math.sqrt((h**2)+(e**2))  гипотенуза прямоугольно теругольника, она же сторона трапеции\n",
    "    #a = c\n",
    "    P = round((b+d+2*math.hypot(e, h)), 2)\n",
    "    return(P)\n",
    "\n",
    "print(f'Периметр равен: {perimetr_isosceles_trapezoids(b, d, h)}')"
   ]
  },
  {
   "cell_type": "code",
   "execution_count": null,
   "metadata": {
    "tags": []
   },
   "outputs": [],
   "source": [
    "# Задание 1.39\n",
    "import math\n",
    "x = float(input('Введите значение \"X\": '))\n",
    "y = float(input('Введите значение \"Y\": '))\n",
    "def func_name(x, y):\n",
    "    z = (x + ((2+y)/x**2)) / (y+(1/math.sqrt((x**2)+10)))\n",
    "    q = 2.8*math.sin(x) + abs(y)\n",
    "    q = round(q, 2)\n",
    "    z = round(z, 2)\n",
    "    return(q, z)\n",
    "\n",
    "print('Q = {}, Z = {}'.format(*func_name(x, y)))"
   ]
  },
  {
   "cell_type": "code",
   "execution_count": null,
   "metadata": {
    "tags": []
   },
   "outputs": [],
   "source": [
    "# Задание 1.40\n",
    "import math\n",
    "a = float(input('Введите значение \"A\": '))\n",
    "b = float(input('Введите значение \"B\": '))\n",
    "def func_name(a, b):\n",
    "    if b<0:\n",
    "        print('Нет решений')\n",
    "    else:  \n",
    "        x = (2/(a**2 + 25)+b) / (math.sqrt(b) + ((a+b)/2))\n",
    "        y = (abs(a)+2*math.sin(b)) / 5.5*a\n",
    "        x = round(x, 2)\n",
    "        y = round(y, 2)\n",
    "        return(x, y)\n",
    "\n",
    "print('X = {}, Y = {}'.format(*func_name(a, b)))"
   ]
  },
  {
   "cell_type": "code",
   "execution_count": null,
   "metadata": {
    "tags": []
   },
   "outputs": [],
   "source": [
    "# Задание 1.41\n",
    "import math\n",
    "e = float(input('Введите значение \"E\": '))\n",
    "f = float(input('Введите значение \"F\": '))\n",
    "g = float(input('Введите значение \"G\": '))\n",
    "h = float(input('Введите значение \"H\": '))\n",
    "\n",
    "def func_name(e, f, g, h):\n",
    "    a = abs(e - 3/f)\n",
    "    a = (a**3)+g\n",
    "    if a<0:\n",
    "        print('Нет решений')\n",
    "    else:    \n",
    "        a = math.sqrt(a)\n",
    "        b = math.sin(e) + (math.cos(h))**2\n",
    "        c = (33*g)/(e*f - 3)\n",
    "        a = round(a, 2)\n",
    "        b = round(b, 2)\n",
    "        c = round(c, 2)\n",
    "        return (a, b, c)\n",
    "\n",
    "print('A = {}, B = {}, C = {}'.format(*func_name(e, f, g, h)))"
   ]
  },
  {
   "cell_type": "code",
   "execution_count": null,
   "metadata": {
    "tags": []
   },
   "outputs": [],
   "source": [
    "# Задание 1.42\n",
    "import math\n",
    "e = float(input('Введите значение \"E\": '))\n",
    "f = float(input('Введите значение \"F\": '))\n",
    "g = float(input('Введите значение \"G\": '))\n",
    "h = float(input('Введите значение \"H\": '))\n",
    "\n",
    "def func_name(e, f, g, h):\n",
    "    a = (e + f/2)/3\n",
    "    b = abs(h**2 - g)\n",
    "    c = (g-h)**2 - 3*math.sin(e)\n",
    "    if c<0:\n",
    "        print('Нет решений')\n",
    "    else:\n",
    "        c = math.sqrt(c)\n",
    "        a = round(a, 2)\n",
    "        b = round(b, 2)\n",
    "        c = round(c, 2)\n",
    "        return (a, b, c)\n",
    "\n",
    "print('A = {}, B = {}, C = {}'.format(*func_name(e, f, g, h)))  "
   ]
  },
  {
   "cell_type": "code",
   "execution_count": null,
   "metadata": {
    "tags": []
   },
   "outputs": [],
   "source": [
    "# Задание 1.43\n",
    "import math\n",
    "a = float(input('Введите значение \"A\": '))\n",
    "b = float(input('Введите значение \"B\": '))\n",
    "\n",
    "a = abs(a)\n",
    "b = abs(b)\n",
    "\n",
    "print(f'Среднее арифмитическое модулей:  {average(a, b)}', f'Среднее геометрическое модулей:  {geometric_average(a, b)}', sep='\\n' )"
   ]
  },
  {
   "cell_type": "code",
   "execution_count": null,
   "metadata": {
    "tags": []
   },
   "outputs": [],
   "source": [
    "# Задание 1.44\n",
    "import math\n",
    "a = float(input('Введите значение стороны \"A\": '))\n",
    "b = float(input('Введите значение стороны \"B\": '))\n",
    "\n",
    "def perimeter_rectangle(a, b):\n",
    "    P = (a+b)*2\n",
    "    P = round(P, 2)\n",
    "    return (P)\n",
    "\n",
    "def diagonal_rectangle (a, b):\n",
    "    D = math.sqrt(a**2 + b**2)\n",
    "    D = round(D, 2)\n",
    "    return (D)\n",
    "\n",
    "print(f'Перимет прямоугольника равен: {perimeter_rectangle(a, b)}', f'Длина его диагонали равна: {diagonal_rectangle (a, b)}', sep='\\n')\n"
   ]
  },
  {
   "cell_type": "code",
   "execution_count": null,
   "metadata": {
    "tags": []
   },
   "outputs": [],
   "source": [
    "# Задание 1.45\n",
    "a = float(input('Введите число \"A\": '))\n",
    "b = float(input('Введите число \"B\": '))\n",
    "\n",
    "sum = round(a+b, 2)\n",
    "rz = round(a-b, 2)\n",
    "pr = round(a*b, 2)\n",
    "de = round(a/b, 2)\n",
    "\n",
    "print(sum, rz, pr, de, sep = ' \\ ')\n",
    "\n"
   ]
  },
  {
   "cell_type": "code",
   "execution_count": null,
   "metadata": {
    "tags": []
   },
   "outputs": [],
   "source": [
    "# Задание 1.46\n",
    "a = float(input('Введите значение стороны \"A\": '))\n",
    "b = float(input('Введите значение стороны \"B\": '))\n",
    "h = float(input('Введите значение высоты \"h\": '))\n",
    "\n",
    "def rectangular_parallelepiped_volume(a, b, h):\n",
    "    V = round(a*b*h, 2)\n",
    "    return (V)\n",
    "def rectangular_parallelepiped_surface_area(a, b, h):\n",
    "    S = perimeter_rectangle(a, b) + perimeter_rectangle(b, h)\n",
    "    return (S)\n",
    "    #S = round(2*(a*b + a*h), 2)  \n",
    "print(f'Объем прямоугольного параллелепипеда: {rectangular_parallelepiped_volume(a, b, h)}', f'Площадь боковой поверхности: {rectangular_parallelepiped_surface_area(a, b, h)}', sep='\\n')"
   ]
  },
  {
   "cell_type": "code",
   "execution_count": null,
   "metadata": {
    "tags": []
   },
   "outputs": [],
   "source": [
    "# Задание 1.47\n",
    "import math\n",
    "coordinates = {}\n",
    "coordinates['ax'] = float(input('Введите значение координаты \"X\" для точки \"A\": '))\n",
    "coordinates['ay'] = float(input('Введите значение координаты \"Y\" для точки \"A\": '))\n",
    "coordinates['bx'] = float(input('Введите значение координаты \"X\" для точки \"B\": '))\n",
    "coordinates['by'] = float(input('Введите значение координаты \"Y\" для точки \"B\": '))\n",
    "\n",
    "def distance_two_points(ax, ay, bx, by):\n",
    "    A = abs(ax) + abs(bx)\n",
    "    B = abs(ay) + abs(by)\n",
    "    S = round(math.hypot(A, B), 2)\n",
    "    return (S)\n",
    "\n",
    "print(f\"Расстояние между точками равно: {distance_two_points(coordinates['ax'], coordinates['ay'], coordinates['bx'], coordinates['by'])}\")\n",
    "\n",
    "\n"
   ]
  },
  {
   "cell_type": "code",
   "execution_count": null,
   "metadata": {},
   "outputs": [],
   "source": [
    "# Задание 1.48\n",
    "import math\n",
    "b = float(input('Введите значение \"меньшего\" основания \"B\": '))\n",
    "d = float(input('Введите значение \"большего\" основания \"D\": '))\n",
    "h = float(input('Введите значение высоты \"h\": '))\n",
    "\n",
    "print(f'Периметр равен: {perimetr_isosceles_trapezoids(b, d, h)}')\n",
    "\n",
    "\n"
   ]
  },
  {
   "cell_type": "code",
   "execution_count": null,
   "metadata": {},
   "outputs": [],
   "source": [
    "# Задание 1.49\n",
    "import math\n",
    "b = float(input('Введите значение \"меньшего\" основания \"B\": '))\n",
    "d = float(input('Введите значение \"большего\" основания \"D\": '))\n",
    "c = float(input('Введите значение угла (В градусах) при большем основании \"D\": '))\n",
    "\n",
    "c = math.radians(c)\n",
    "def isosceles_trapezoids_area_angle(b, d, c):\n",
    "    S = round(((d**2 - b**2) * math.tan(c)) /2, 2)\n",
    "    return (S)\n",
    "\n",
    "print(f'Площадь трапеции равена: {isosceles_trapezoids_area_angle(b, d, c)}')"
   ]
  },
  {
   "cell_type": "code",
   "execution_count": null,
   "metadata": {},
   "outputs": [],
   "source": [
    "# Задание 1.50\n",
    "import math\n",
    "coordinates = {}\n",
    "coordinates['ax'] = float(input('Введите значение координаты \"X\" для точки \"A\": '))\n",
    "coordinates['ay'] = float(input('Введите значение координаты \"Y\" для точки \"A\": '))\n",
    "coordinates['bx'] = float(input('Введите значение координаты \"X\" для точки \"B\": '))\n",
    "coordinates['by'] = float(input('Введите значение координаты \"Y\" для точки \"B\": '))\n",
    "coordinates['сx'] = float(input('Введите значение координаты \"X\" для вершины \"С\": '))\n",
    "coordinates['сy'] = float(input('Введите значение координаты \"Y\" для вершины \"С\": '))\n",
    "\n",
    "def perimeter_triangle(a, b, c):\n",
    "    P = round(a+b+c, 2)\n",
    "    return (P)\n",
    "\n",
    "def area_triangle(a, b, c):\n",
    "    # Формула Герона, где \"p\"-полупериметр\n",
    "    p = round((a+b+c)/2, 2)\n",
    "    S = round(math.sqrt(p*(p - a)*(p - b)*(p - c)), 2)\n",
    "    return (S)\n",
    "\n",
    "a = distance_two_points(coordinates['ax'],coordinates['ay'], coordinates['bx'], coordinates['by'])\n",
    "b = distance_two_points(coordinates['bx'], coordinates['by'], coordinates['сx'], coordinates['сy'])\n",
    "c = distance_two_points(coordinates['ax'], coordinates['ay'], coordinates['сx'], coordinates['сy'])\n",
    "\n",
    "print(f'Периметр треугольника равен: {perimeter_triangle(a, b, c)}', f'Площадь трегольника равна: {area_triangle(a, b, c)}', sep='\\n') \n"
   ]
  },
  {
   "cell_type": "code",
   "execution_count": null,
   "metadata": {},
   "outputs": [],
   "source": [
    "# Задание 1.51\n",
    "import math\n",
    "coordinates = {}\n",
    "coordinates['ax'] = float(input('Введите значение координаты \"X\" для точки \"A\": '))\n",
    "coordinates['ay'] = float(input('Введите значение координаты \"Y\" для точки \"A\": '))\n",
    "coordinates['bx'] = float(input('Введите значение координаты \"X\" для точки \"B\": '))\n",
    "coordinates['by'] = float(input('Введите значение координаты \"Y\" для точки \"B\": '))\n",
    "coordinates['сx'] = float(input('Введите значение координаты \"X\" для точки \"С\": '))\n",
    "coordinates['сy'] = float(input('Введите значение координаты \"Y\" для точки \"С\": '))\n",
    "coordinates['dx'] = float(input('Введите значение координаты \"X\" для точки \"D\": '))\n",
    "coordinates['dy'] = float(input('Введите значение координаты \"Y\" для точки \"D\": '))\n",
    "\n",
    "AB = distance_two_points(coordinates['ax'],coordinates['ay'], coordinates['bx'], coordinates['by'])\n",
    "BC = distance_two_points(coordinates['bx'], coordinates['by'], coordinates['сx'], coordinates['сy'])\n",
    "AC = distance_two_points(coordinates['ax'],coordinates['ay'], coordinates['сx'], coordinates['сy'])\n",
    "AD = distance_two_points(coordinates['ax'],coordinates['ay'], coordinates['dx'], coordinates['dy'])\n",
    "DC = distance_two_points(coordinates['dx'],coordinates['dy'], coordinates['сx'], coordinates['сy'])\n",
    "\n",
    "print(f'Площадь четырехугольника: {(area_triangle(AB, BC, AC)) + (area_triangle(AD, DC, AC))}')\n"
   ]
  },
  {
   "cell_type": "code",
   "execution_count": null,
   "metadata": {},
   "outputs": [],
   "source": [
    "# Задание 1.52\n",
    "candy_price = float(input('Введите стоимость 1 кг конфет : '))\n",
    "cookies_price = float(input('Введите стоимость 1 кг печенья : '))\n",
    "apples_price = float(input('Введите стоимость 1 кг яблок : '))\n",
    "candy = float(input('Введите вес конфет : '))\n",
    "cookies = float(input('Введите вес печенья : '))\n",
    "apples = float(input('Введите вес яблок : '))\n",
    "\n",
    "all_price = round((candy_price * candy) + (cookies_price * cookies) + (apples_price * apples), 2)\n",
    "\n",
    "print(all_price)"
   ]
  },
  {
   "cell_type": "code",
   "execution_count": null,
   "metadata": {},
   "outputs": [],
   "source": [
    "# Задание 1.53\n",
    "monitor_price = float(input('Введите стоимость монитора : '))\n",
    "system_unit_price = float(input('Введите стоимость системного блока : '))\n",
    "keyboard_price = float(input('Введите стоимость клавиатуры : '))\n",
    "mouse_price = float(input('Введите стоимость мыши : '))\n",
    "pc = float(input('Введите количество компьютеров : '))\n",
    "\n",
    "\n",
    "def pc_price(n):\n",
    "    all_price = round((monitor_price + system_unit_price + keyboard_price + mouse_price) * n, 2)\n",
    "    return (all_price)\n",
    "\n",
    "print(f'Стоимость 3 компьютеров равна: {pc_price(3)}', f'Стоимость \"N\" компьютеров равна: {pc_price(pc)}', sep='\\n')    \n"
   ]
  },
  {
   "cell_type": "code",
   "execution_count": null,
   "metadata": {},
   "outputs": [],
   "source": [
    "# Задание 1.54\n",
    "Tanya_age = float(input('Введите возраст Тани : '))\n",
    "Mitya_age = float(input('Введите возраст Мити : '))\n",
    "\n",
    "average_age = average(Tanya_age, Mitya_age)\n",
    "Tanya_average = abs(average_age - Tanya_age)\n",
    "Mitya_average = abs(average_age - Mitya_age)\n",
    "\n",
    "print(f'Средний возраст: {average_age}', f'Возраст Тани отличается от среднего на: {Tanya_average} лет', f'Возраст Мити отличается от среднего на: {Mitya_average} лет', sep='\\n')"
   ]
  },
  {
   "cell_type": "code",
   "execution_count": null,
   "metadata": {},
   "outputs": [],
   "source": [
    "# Задание 1.55\n",
    "V_1 = float(input('Введите скорость первого автомобиля: '))\n",
    "V_2 = float(input('Введите скорость второго автомобиля: '))\n",
    "S = float(input('Введите расстояние между автомобилями: '))\n",
    "\n",
    "print(f'Автомобили встретятся через: {S/(V_1+V_2)} часа(ов)')"
   ]
  },
  {
   "cell_type": "code",
   "execution_count": null,
   "metadata": {},
   "outputs": [],
   "source": [
    "# Задание 1.56\n",
    "V_1 = float(input('Введите скорость первого автомобиля: '))\n",
    "V_2 = float(input('Введите скорость второго автомобиля: '))\n",
    "S = float(input('Введите расстояние между автомобилями: '))\n",
    "\n",
    "if V_1 <= V_2:\n",
    "    print('Скорость первого автомобиля должна быть больше скорости второго автомобиля!!')\n",
    "\n",
    "else:\n",
    "    print(f'Расстояние между автомобилями через 30 минут будет равно: {S+((V_1-V_2)*0.5)} км')"
   ]
  },
  {
   "cell_type": "code",
   "execution_count": null,
   "metadata": {},
   "outputs": [],
   "source": [
    "# Задание 1.57\n",
    "celsius = float(input('Введите температуру по шкале Цельсия: '))\n",
    "\n",
    "def celsius_to_fahrenheit(a):\n",
    "    fahrenheit = round(a * 1.8 + 32, 2)\n",
    "    return(fahrenheit)\n",
    "\n",
    "def celsius_to_kelvin(a):\n",
    "    kelvin = round(a + 273.15, 2)\n",
    "    return(kelvin)\n",
    "\n",
    "print(f'Значение температуры по шкале Цельсия {celsius}', f'Значение температуры по шкале Фаренгейта {celsius_to_fahrenheit(celsius)}', f'Значение температуры по шкале Кельвина {celsius_to_kelvin(celsius)}', sep='\\n')    "
   ]
  },
  {
   "cell_type": "code",
   "execution_count": null,
   "metadata": {},
   "outputs": [],
   "source": [
    "# Задание 1.58\n",
    "def fahrenheit_to_celsius(a):\n",
    "    celsius = round((a - 32) / 1.8, 2)\n",
    "    return(celsius)\n",
    "\n",
    "print(f'Значение температуры по шкале Цельсия {fahrenheit_to_celsius(450)}')    "
   ]
  },
  {
   "cell_type": "code",
   "execution_count": null,
   "metadata": {},
   "outputs": [],
   "source": [
    "# Задание 1.59\n",
    "a, b = int\n",
    "a, b = b, a"
   ]
  },
  {
   "cell_type": "code",
   "execution_count": null,
   "metadata": {},
   "outputs": [],
   "source": [
    "# Задание 1.60\n",
    "a, b, c = int\n",
    "\n",
    "#(a)\n",
    "a, b, c = b, c, a\n",
    "\n",
    "#(б)\n",
    "a, b, c = c, a, b"
   ]
  },
  {
   "cell_type": "code",
   "execution_count": null,
   "metadata": {},
   "outputs": [],
   "source": [
    "# Задание 1.61\n",
    "a = float\n",
    "\n",
    "#(a)\n",
    "a_2 = a * a\n",
    "a_4 = a_2 * a_2\n",
    "\n",
    "#(б)\n",
    "a_6 = a_4 * a_2\n",
    "\n",
    "#(в)\n",
    "a_7 = a_6 * a\n",
    "\n",
    "#(г)\n",
    "a_8 = a_4 * a_4\n",
    "\n",
    "#(д)\n",
    "a_9 = a_8 * a\n",
    "\n",
    "#(е)\n",
    "a_10 = a_6 * a_4\n",
    "\n",
    "#(ж)\n",
    "a_13 = a_9 * a_4\n",
    "\n",
    "#(з)\n",
    "a_3 = a_2 * a\n",
    "a_6_1 = a_3 * a_3\n",
    "a_12 = a_6_1 * a_6_1\n",
    "a_15 = a_12 * a_3\n",
    "\n",
    "#(и)\n",
    "a_21 = a_15 * a_6_1\n",
    "\n",
    "#(к)\n",
    "a_16 = a_8 * a_8\n",
    "a_24 = a_16 * a_8\n",
    "a_28 = a_24 * a_4\n",
    "\n",
    "#(л)\n",
    "a_32 = a_16 * a_16\n",
    "a_64 = a_32 * a_32"
   ]
  },
  {
   "cell_type": "code",
   "execution_count": null,
   "metadata": {},
   "outputs": [],
   "source": [
    "# Задание 1.62\n",
    "a = float\n",
    "\n",
    "#(а)\n",
    "a_2 = a * a\n",
    "a_3 = a_2 * a\n",
    "a_5 = a_3 * a_2\n",
    "a_10 = a_5 *a_5\n",
    "\n",
    "#(б)\n",
    "a_2 = a * a\n",
    "a_4 = a_2 * a_2\n",
    "a_8 = a_4 * a_4\n",
    "a_16 = a_8 * a_8\n",
    "a_20 = a_16 * a_4\n",
    "\n",
    "#(в)\n",
    "a_2 = a * a\n",
    "a_3 = a_2 * a\n",
    "a_5 = a_3 * a_2\n",
    "a_10 = a_5 *a_5\n",
    "a_13 = a_10 * a_3\n",
    "\n",
    "#(г)\n",
    "a_2 = a * a\n",
    "a_4 = a_2 * a_2\n",
    "a_5 = a_4 * a\n",
    "a_10 = a_5 *a_5\n",
    "## Тупик\n",
    "\n",
    "#(д)\n",
    "a_2 = a * a\n",
    "a_4 = a_2 * a_2\n",
    "a_5 = a_4 * a\n",
    "a_10 = a_5 *a_5\n",
    "a_15 = a_10 * a_5\n",
    "a_17 = a_15 * a_2\n",
    "\n",
    "#(е)\n",
    "a_2 = a * a\n",
    "a_4 = a_2 * a_2\n",
    "a_8 = a_4 * a_4\n",
    "a_12 = a_8 * a_4\n",
    "a_24 = a_12 * a_12\n",
    "a_28 = a_24 * a_4"
   ]
  }
 ]
}