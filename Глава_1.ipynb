{
 "metadata": {
  "language_info": {
   "codemirror_mode": {
    "name": "ipython",
    "version": 3
   },
   "file_extension": ".py",
   "mimetype": "text/x-python",
   "name": "python",
   "nbconvert_exporter": "python",
   "pygments_lexer": "ipython3",
   "version": "3.8.1-final"
  },
  "orig_nbformat": 2,
  "kernelspec": {
   "name": "python_defaultSpec_1600412197287",
   "display_name": "Python 3.8.1 64-bit"
  }
 },
 "nbformat": 4,
 "nbformat_minor": 2,
 "cells": [
  {
   "cell_type": "code",
   "execution_count": 5,
   "metadata": {
    "tags": []
   },
   "outputs": [
    {
     "output_type": "stream",
     "name": "stdout",
     "text": "3.14\n"
    }
   ],
   "source": [
    "# Задание 1.1\n",
    "import math\n",
    "print(round(math.pi, 2))"
   ]
  },
  {
   "cell_type": "code",
   "execution_count": 6,
   "metadata": {
    "tags": []
   },
   "outputs": [
    {
     "output_type": "stream",
     "name": "stdout",
     "text": "2.72\n"
    }
   ],
   "source": [
    "# Задание 1.2\n",
    "import math\n",
    "print(round(math.e, 2))"
   ]
  },
  {
   "cell_type": "code",
   "execution_count": 7,
   "metadata": {
    "tags": []
   },
   "outputs": [
    {
     "output_type": "stream",
     "name": "stdout",
     "text": "Вы ввели число: 72\n"
    }
   ],
   "source": [
    "# Задание 1.3\n",
    "x = int(input('Введите число: '))\n",
    "print(f'Вы ввели число: {x}')"
   ]
  },
  {
   "cell_type": "code",
   "execution_count": 8,
   "metadata": {
    "tags": []
   },
   "outputs": [
    {
     "output_type": "stream",
     "name": "stdout",
     "text": "33-вот какое число Вы ввели\n"
    }
   ],
   "source": [
    "# Задание 1.4\n",
    "x = int(input('Введите число: '))\n",
    "print(f'{x} - вот какое число Вы ввели')"
   ]
  },
  {
   "cell_type": "code",
   "execution_count": 11,
   "metadata": {
    "tags": []
   },
   "outputs": [
    {
     "output_type": "stream",
     "name": "stdout",
     "text": "1 13 49\n"
    }
   ],
   "source": [
    "# Задание 1.5\n",
    "print('1 13 49')"
   ]
  },
  {
   "cell_type": "code",
   "execution_count": 12,
   "metadata": {
    "tags": []
   },
   "outputs": [
    {
     "output_type": "stream",
     "name": "stdout",
     "text": "7  15  100\n"
    }
   ],
   "source": [
    "# Задание 1.6\n",
    "print('7  15  100')"
   ]
  },
  {
   "cell_type": "code",
   "execution_count": 15,
   "metadata": {
    "tags": []
   },
   "outputs": [
    {
     "output_type": "stream",
     "name": "stdout",
     "text": "72  60  22\n"
    }
   ],
   "source": [
    "# Задание 1.7\n",
    "import random\n",
    "a = random.randrange(0, 100)\n",
    "b = random.randrange(0, 100)\n",
    "c = random.randrange(0, 100)\n",
    "print(f'{a}  {b}  {c}')"
   ]
  },
  {
   "cell_type": "code",
   "execution_count": 16,
   "metadata": {
    "tags": []
   },
   "outputs": [
    {
     "output_type": "stream",
     "name": "stdout",
     "text": "79 57 97 44\n"
    }
   ],
   "source": [
    "# Задание 1.8\n",
    "import random\n",
    "a = random.randrange(0, 100)\n",
    "b = random.randrange(0, 100)\n",
    "c = random.randrange(0, 100)\n",
    "d = random.randrange(0, 100)\n",
    "print(f'{a} {b} {c} {d}')"
   ]
  },
  {
   "cell_type": "code",
   "execution_count": 21,
   "metadata": {
    "tags": []
   },
   "outputs": [
    {
     "output_type": "stream",
     "name": "stdout",
     "text": "50\n10\n"
    }
   ],
   "source": [
    "# Задание 1.9\n",
    "a = 50\n",
    "b = 10\n",
    "print(f'{a}\\n{b}')"
   ]
  },
  {
   "cell_type": "code",
   "execution_count": 1,
   "metadata": {
    "tags": []
   },
   "outputs": [
    {
     "output_type": "stream",
     "name": "stdout",
     "text": "5\n10\n21\n"
    }
   ],
   "source": [
    "# Задание 1.10\n",
    "a = 5\n",
    "b = 10\n",
    "c = 21\n",
    "print(f'{a}\\n{b}\\n{c}')"
   ]
  },
  {
   "cell_type": "code",
   "execution_count": 2,
   "metadata": {
    "tags": []
   },
   "outputs": [
    {
     "output_type": "stream",
     "name": "stdout",
     "text": "95\n77\n15\n81\n"
    }
   ],
   "source": [
    "# Задание 1.11\n",
    "import random\n",
    "a = random.randrange(0, 100)\n",
    "b = random.randrange(0, 100)\n",
    "c = random.randrange(0, 100)\n",
    "d = random.randrange(0, 100)\n",
    "print(f'{a}\\n{b}\\n{c}\\n{d}')"
   ]
  },
  {
   "cell_type": "code",
   "execution_count": 3,
   "metadata": {
    "tags": []
   },
   "outputs": [
    {
     "output_type": "stream",
     "name": "stdout",
     "text": "5 10\n7 см\n"
    }
   ],
   "source": [
    "# Задание 1.12(а)\n",
    "a = 5\n",
    "b = 10 \n",
    "c = 7\n",
    "print(f'{a} {b}\\n{c} см')"
   ]
  },
  {
   "cell_type": "code",
   "execution_count": 4,
   "metadata": {
    "tags": []
   },
   "outputs": [
    {
     "output_type": "stream",
     "name": "stdout",
     "text": "100 10\n1949 33\n"
    }
   ],
   "source": [
    "# Задание 1.12(б)\n",
    "a = 100\n",
    "b =1949\n",
    "t = int(input('Введите число: '))\n",
    "v = int(input('Введите число: '))\n",
    "print(f'{a} {t}\\n{b} {v}')"
   ]
  },
  {
   "cell_type": "code",
   "execution_count": 8,
   "metadata": {
    "tags": []
   },
   "outputs": [
    {
     "output_type": "stream",
     "name": "stdout",
     "text": "11 25\n11 33\n"
    }
   ],
   "source": [
    "# Задание 1.12(в)\n",
    "a = 25\n",
    "x = int(input('Введите число: '))\n",
    "y = int(input('Введите число: '))\n",
    "print(f'{x} {a}\\n{x} {y}')"
   ]
  },
  {
   "cell_type": "code",
   "execution_count": 2,
   "metadata": {
    "tags": []
   },
   "outputs": [
    {
     "output_type": "stream",
     "name": "stdout",
     "text": "2 кг\n13 17\n"
    }
   ],
   "source": [
    "# Задание 1.13(а)\n",
    "a = 2\n",
    "b = 13\n",
    "c = 17\n",
    "print(f'{a} кг\\n{b} {c}')\n"
   ]
  },
  {
   "cell_type": "code",
   "execution_count": 4,
   "metadata": {
    "tags": []
   },
   "outputs": [
    {
     "output_type": "stream",
     "name": "stdout",
     "text": "11 1\n19 33\n"
    }
   ],
   "source": [
    "# Задание 1.13(б)\n",
    "a = int(input('Введите число: '))\n",
    "b = int(input('Введите число: '))\n",
    "c = 1\n",
    "d = 19\n",
    "print(f'{a} {c}\\n{d} {b}')"
   ]
  },
  {
   "cell_type": "code",
   "execution_count": 5,
   "metadata": {
    "tags": []
   },
   "outputs": [
    {
     "output_type": "stream",
     "name": "stdout",
     "text": "11 12\n5 12\n"
    }
   ],
   "source": [
    "# Задание 1.13(в)\n",
    "x = int(input('Введите число: '))\n",
    "y = int(input('Введите число: '))\n",
    "c = 5\n",
    "print(f'{x} {y}\\n{c} {y}')"
   ]
  },
  {
   "cell_type": "code",
   "execution_count": null,
   "metadata": {},
   "outputs": [],
   "source": [
    "#Задание 1.14\n",
    "import math\n",
    "а) 2*x\n",
    "б) math.sin(x) # X - указывается в радианах\n",
    "в) a**2\n",
    "г) math.sqrt(x)\n",
    "д) abs(n)\n",
    "е) 5*math.cos(y) # Y - указывается в радианах\n",
    "ж) (-7.5)*(a**2)\n",
    "з) 3*math.sqrt(x)\n",
    "и) (math.sin(Alpha)*math.cos(Beta))+(math.cos(Alpha)*math.cos(Beta)) #  Alpha и Beta - указываются в радианах\n",
    "к) a*math.sqrt(2*b)\n",
    "л) 3*math.sin(2*Alpha)*math.cos(3*Beta) #  Alpha и Beta - указываются в радианах\n",
    "м) -5*(math.sqrt(x+math.sqrt(y)))"
   ]
  },
  {
   "cell_type": "code",
   "execution_count": null,
   "metadata": {},
   "outputs": [],
   "source": [
    "# Задание 1.15\n",
    "import math\n",
    "а) (-1)/(x**2)\n",
    "б) a/(b*c)\n",
    "в) (a/b)*c\n",
    "г) (a+b)/2\n",
    "д) (5.45)*((a+2*b)/(2-a))\n",
    "е) ((-b)+(math.sqrt((b**2)-4*a*c))/2*a\n",
    "ж) ((-b)+(1/a))/(2/c)\n",
    "з) 1/(1+((a+b)/2)\n",
    "и) 1/(1+(1/(2+(1/(2+(3/5))))))\n",
    "к) 2**(m**n)"
   ]
  },
  {
   "cell_type": "code",
   "execution_count": null,
   "metadata": {},
   "outputs": [],
   "source": [
    "# Задание 1.17\n",
    "import math\n",
    "а) math.sqrt(x1**2 + x2**2)\n",
    "б) x1*x2 + x1*x3 + x2*x3\n",
    "в) (v0*t) + ((a*(t**2))/2)\n",
    "г) ((m*(v**2)/2)+ m*g*h\n",
    "д) (1/R1) + (1/R2)\n",
    "е) m*g*math.cos(Alpha) # Alpha - указывается в радианах\n",
    "ж) 2*math.pi*R\n",
    "з) b**2-(4*a*c)\n",
    "и) Gamma*((m1*m2)/r**2)\n",
    "к) I**2 * R\n",
    "л) a*b*math.sin(c) # C - указывается в радианах\n",
    "м) math.sqrt(a**2 + b**2 - 2*a*b*math.cos(c)) # C - указывается в радианах\n",
    "н) (a*b + b*c)/a*d\n",
    "о) math.sqrt(1-(math.sin(x)**2))\n",
    "п) 1/(math.sqrt(a*x**2 + b*x + c))\n",
    "р) (math.sqrt(x+1)+math.sqrt(x-1))/2*math.sqrt(x)\n",
    "с) abs(x)+abs(x+1)\n",
    "т) abs(1-abs(x))"
   ]
  },
  {
   "cell_type": "code",
   "execution_count": 16,
   "metadata": {
    "tags": []
   },
   "outputs": [
    {
     "output_type": "stream",
     "name": "stdout",
     "text": "5\n57\n"
    }
   ],
   "source": [
    "# Задание 1.18(а)\n",
    "s=5\n",
    "print(s)\n",
    "s=57\n",
    "print(s)"
   ]
  },
  {
   "cell_type": "code",
   "execution_count": 17,
   "metadata": {
    "tags": []
   },
   "outputs": [
    {
     "output_type": "stream",
     "name": "stdout",
     "text": "6\n-31.200000000000003\n0\n"
    }
   ],
   "source": [
    "# Задание 1.18(б)\n",
    "s=6\n",
    "print(s)\n",
    "s=-5.2*s\n",
    "print(s)\n",
    "s=0\n",
    "print(s)"
   ]
  },
  {
   "cell_type": "code",
   "execution_count": 18,
   "metadata": {
    "tags": []
   },
   "outputs": [
    {
     "output_type": "stream",
     "name": "stdout",
     "text": "-7.5\n-15.0\n"
    }
   ],
   "source": [
    "# Задание 1.18(в)\n",
    "s=-7.5\n",
    "print(s)\n",
    "s=2*s\n",
    "print(s)"
   ]
  },
  {
   "cell_type": "code",
   "execution_count": 19,
   "metadata": {
    "tags": []
   },
   "outputs": [
    {
     "output_type": "stream",
     "name": "stdout",
     "text": "45\n-25\n"
    },
    {
     "output_type": "error",
     "ename": "NameError",
     "evalue": "name 'k' is not defined",
     "traceback": [
      "\u001b[1;31m---------------------------------------------------------------------------\u001b[0m",
      "\u001b[1;31mNameError\u001b[0m                                 Traceback (most recent call last)",
      "\u001b[1;32m<ipython-input-19-b6472ff6ea45>\u001b[0m in \u001b[0;36m<module>\u001b[1;34m\u001b[0m\n\u001b[0;32m      4\u001b[0m \u001b[0ms\u001b[0m\u001b[1;33m=\u001b[0m\u001b[1;33m-\u001b[0m\u001b[1;36m25\u001b[0m\u001b[1;33m\u001b[0m\u001b[1;33m\u001b[0m\u001b[0m\n\u001b[0;32m      5\u001b[0m \u001b[0mprint\u001b[0m\u001b[1;33m(\u001b[0m\u001b[0ms\u001b[0m\u001b[1;33m)\u001b[0m\u001b[1;33m\u001b[0m\u001b[1;33m\u001b[0m\u001b[0m\n\u001b[1;32m----> 6\u001b[1;33m \u001b[0ms\u001b[0m\u001b[1;33m=\u001b[0m\u001b[0ms\u001b[0m\u001b[1;33m+\u001b[0m\u001b[0mk\u001b[0m\u001b[1;33m\u001b[0m\u001b[1;33m\u001b[0m\u001b[0m\n\u001b[0m\u001b[0;32m      7\u001b[0m \u001b[0mprint\u001b[0m\u001b[1;33m(\u001b[0m\u001b[0ms\u001b[0m\u001b[1;33m)\u001b[0m\u001b[1;33m\u001b[0m\u001b[1;33m\u001b[0m\u001b[0m\n",
      "\u001b[1;31mNameError\u001b[0m: name 'k' is not defined"
     ]
    }
   ],
   "source": [
    "# Задание 1.18(г)\n",
    "s=45\n",
    "print(s)\n",
    "s=-25\n",
    "print(s)\n",
    "s=s+k # Ошибка: нет переменной 'k'\n",
    "print(s)"
   ]
  },
  {
   "cell_type": "code",
   "execution_count": 20,
   "metadata": {
    "tags": []
   },
   "outputs": [
    {
     "output_type": "stream",
     "name": "stdout",
     "text": "10\n-10\n"
    }
   ],
   "source": [
    "# Задание 1.19(а)\n",
    "x=10\n",
    "print(x)\n",
    "x=-10\n",
    "print(x)"
   ]
  },
  {
   "cell_type": "code",
   "execution_count": 21,
   "metadata": {
    "tags": []
   },
   "outputs": [
    {
     "output_type": "stream",
     "name": "stdout",
     "text": "17.5\n-35.0\n"
    }
   ],
   "source": [
    "# Задание 1.19(б)\n",
    "x=17.5\n",
    "print(x)\n",
    "x=-2*x\n",
    "print(x)"
   ]
  },
  {
   "cell_type": "code",
   "execution_count": 22,
   "metadata": {
    "tags": []
   },
   "outputs": [
    {
     "output_type": "stream",
     "name": "stdout",
     "text": "60\n59\n0\n"
    }
   ],
   "source": [
    "# Задание 1.19(в)\n",
    "x=60\n",
    "print(x)\n",
    "x=x-1\n",
    "print(x)\n",
    "x=0\n",
    "print(x)"
   ]
  },
  {
   "cell_type": "code",
   "execution_count": 24,
   "metadata": {
    "tags": []
   },
   "outputs": [
    {
     "output_type": "stream",
     "name": "stdout",
     "text": "-50\n-25\n"
    },
    {
     "output_type": "error",
     "ename": "NameError",
     "evalue": "name 'k' is not defined",
     "traceback": [
      "\u001b[1;31m---------------------------------------------------------------------------\u001b[0m",
      "\u001b[1;31mNameError\u001b[0m                                 Traceback (most recent call last)",
      "\u001b[1;32m<ipython-input-24-d788f8c9e783>\u001b[0m in \u001b[0;36m<module>\u001b[1;34m\u001b[0m\n\u001b[0;32m      4\u001b[0m \u001b[0mx\u001b[0m\u001b[1;33m=\u001b[0m\u001b[1;33m-\u001b[0m\u001b[1;36m25\u001b[0m\u001b[1;33m\u001b[0m\u001b[1;33m\u001b[0m\u001b[0m\n\u001b[0;32m      5\u001b[0m \u001b[0mprint\u001b[0m\u001b[1;33m(\u001b[0m\u001b[0mx\u001b[0m\u001b[1;33m)\u001b[0m\u001b[1;33m\u001b[0m\u001b[1;33m\u001b[0m\u001b[0m\n\u001b[1;32m----> 6\u001b[1;33m \u001b[0mx\u001b[0m\u001b[1;33m=\u001b[0m\u001b[0mx\u001b[0m\u001b[1;33m+\u001b[0m\u001b[0mk\u001b[0m\u001b[1;33m\u001b[0m\u001b[1;33m\u001b[0m\u001b[0m\n\u001b[0m\u001b[0;32m      7\u001b[0m \u001b[0mprint\u001b[0m\u001b[1;33m(\u001b[0m\u001b[0mx\u001b[0m\u001b[1;33m)\u001b[0m\u001b[1;33m\u001b[0m\u001b[1;33m\u001b[0m\u001b[0m\n",
      "\u001b[1;31mNameError\u001b[0m: name 'k' is not defined"
     ]
    }
   ],
   "source": [
    "# Задание 1.19(г)\n",
    "x=-50\n",
    "print(x)\n",
    "x=-25\n",
    "print(x)\n",
    "x=x+k # Ошибка: нет переменной 'k'\n",
    "print(x)"
   ]
  },
  {
   "cell_type": "code",
   "execution_count": 27,
   "metadata": {
    "tags": []
   },
   "outputs": [
    {
     "output_type": "stream",
     "name": "stdout",
     "text": "14 -3\n15\n30\n"
    }
   ],
   "source": [
    "# Задание 1.20(а)\n",
    "s=14\n",
    "k=-3\n",
    "print(s, k)\n",
    "d=s+1\n",
    "s=d\n",
    "print(s)\n",
    "k=2*s\n",
    "print(k)\n"
   ]
  },
  {
   "cell_type": "code",
   "execution_count": 28,
   "metadata": {
    "tags": []
   },
   "outputs": [
    {
     "output_type": "stream",
     "name": "stdout",
     "text": "0 30\n50\n-50\n"
    }
   ],
   "source": [
    "# Задание 1.20(б)\n",
    "s=0\n",
    "k=30\n",
    "print(s, k)\n",
    "d=k-5\n",
    "k=2*d\n",
    "print(k)\n",
    "s=k-100\n",
    "print(s)"
   ]
  },
  {
   "cell_type": "code",
   "execution_count": 29,
   "metadata": {
    "tags": []
   },
   "outputs": [
    {
     "output_type": "stream",
     "name": "stdout",
     "text": "5.8 -7.9\n5.8\n5.8\n"
    }
   ],
   "source": [
    "# Задание 1.21(а)\n",
    "a=5.8\n",
    "b=-7.9\n",
    "print(a, b)\n",
    "b=a\n",
    "print(b)\n",
    "a=b\n",
    "print(a)"
   ]
  },
  {
   "cell_type": "code",
   "execution_count": 30,
   "metadata": {
    "tags": []
   },
   "outputs": [
    {
     "output_type": "stream",
     "name": "stdout",
     "text": "0 -9.99\n0\n0\n"
    }
   ],
   "source": [
    "# Задание 1.21(б)\n",
    "a=0\n",
    "b=-9.99\n",
    "print(a, b)\n",
    "b=a\n",
    "print(b)\n",
    "a=b\n",
    "print(a)"
   ]
  },
  {
   "cell_type": "code",
   "execution_count": 50,
   "metadata": {
    "tags": []
   },
   "outputs": [
    {
     "output_type": "stream",
     "name": "stdout",
     "text": "328.0\n"
    }
   ],
   "source": [
    "# Задание 1.22(а)\n",
    "x = float(input('Введите значеие \"Х\": '))\n",
    "y = 7*x**2 - 3*x+6\n",
    "print(y)\n"
   ]
  },
  {
   "cell_type": "code",
   "execution_count": 49,
   "metadata": {
    "tags": []
   },
   "outputs": [
    {
     "output_type": "stream",
     "name": "stdout",
     "text": "621.0\n"
    }
   ],
   "source": [
    "# Задание 1.22(б)\n",
    "a = float(input('Введите значение \"А\": '))\n",
    "x = 12*a**2 + 7*a - 16\n",
    "print(x)"
   ]
  },
  {
   "cell_type": "code",
   "execution_count": 56,
   "metadata": {
    "tags": []
   },
   "outputs": [
    {
     "output_type": "stream",
     "name": "stdout",
     "text": "37.25666549877473\n"
    }
   ],
   "source": [
    "# Задание 1.23\n",
    "import math\n",
    "a = float(input('Введите значение \"А\": '))\n",
    "y = (a**2 + 10)/(math.sqrt(a**2 + 1))\n",
    "print(y)"
   ]
  },
  {
   "cell_type": "code",
   "execution_count": 61,
   "metadata": {
    "tags": []
   },
   "outputs": [
    {
     "output_type": "stream",
     "name": "stdout",
     "text": "4.273014131228446\n"
    }
   ],
   "source": [
    "# Задание 1.24(а)\n",
    "import math\n",
    "a = float(input('Введите значение \"А\": '))\n",
    "x = (2*a + math.sin(abs(3*a)))/3.56\n",
    "if x >= 0:\n",
    "    x = math.sqrt(x)\n",
    "    print(x)\n",
    "else:\n",
    "    print(x)\n",
    "    print('Нельзя извлечь квадратный корень из отрицательного числа')\n"
   ]
  },
  {
   "cell_type": "code",
   "execution_count": 66,
   "metadata": {
    "tags": []
   },
   "outputs": [
    {
     "output_type": "stream",
     "name": "stdout",
     "text": "-0.5\nНельзя извлечь квадратный корень из отрицательного числа\n-1.5\n"
    }
   ],
   "source": [
    "# Задание 1.24(б)\n",
    "import math\n",
    "x = float(input('Введите значение \"X\": '))\n",
    "if (x+1)>=0:\n",
    "    y = math.sin((3.2+math.sqrt(1+x))/abs(5*x))\n",
    "    print(y)\n",
    "else:\n",
    "    print(x+1)\n",
    "    print('Нельзя извлечь квадратный корень из отрицательного числа')   \n"
   ]
  },
  {
   "cell_type": "code",
   "execution_count": 68,
   "metadata": {
    "tags": []
   },
   "outputs": [
    {
     "output_type": "stream",
     "name": "stdout",
     "text": "16.0 см\n"
    }
   ],
   "source": [
    "# Задание 1.25\n",
    "x = float(input('Введите значение стороны квадрата: '))\n",
    "P = 4*x\n",
    "print(P)"
   ]
  },
  {
   "cell_type": "code",
   "execution_count": 69,
   "metadata": {
    "tags": []
   },
   "outputs": [
    {
     "output_type": "stream",
     "name": "stdout",
     "text": "16.0\n"
    }
   ],
   "source": [
    "# Задание 1.26\n",
    "x = float(input('Введите значение радиуса окружности: '))\n",
    "D = 2*x\n",
    "print(D)"
   ]
  },
  {
   "cell_type": "code",
   "execution_count": 70,
   "metadata": {
    "tags": []
   },
   "outputs": [
    {
     "output_type": "stream",
     "name": "stdout",
     "text": "529.0406411609604\n"
    }
   ],
   "source": [
    "# Задание 1.27\n",
    "h = float(input('Введите значение высоты над Землей: '))\n",
    "R = 6350\n",
    "d = math.sqrt(h*(2*R + h))\n",
    "print(d)"
   ]
  },
  {
   "cell_type": "code",
   "execution_count": 71,
   "metadata": {
    "tags": []
   },
   "outputs": [
    {
     "output_type": "stream",
     "name": "stdout",
     "text": "27.0 54.0\n"
    }
   ],
   "source": [
    "# Задание 1.28\n",
    "h = float(input('Введите значение ребра куба '))\n",
    "V = h**3\n",
    "S = 6*(h**2)\n",
    "print(V, S)\n",
    "\n"
   ]
  },
  {
   "cell_type": "code",
   "execution_count": 74,
   "metadata": {
    "tags": []
   },
   "outputs": [
    {
     "output_type": "stream",
     "name": "stdout",
     "text": "62.83185307179586 314.1592653589793\n"
    }
   ],
   "source": [
    "# Задание 1.29\n",
    "import math\n",
    "R = float(input('Введите значение радиуса окружности '))\n",
    "P = 2*math.pi*R\n",
    "S = math.pi*(R**2)\n",
    "print(P, S)"
   ]
  },
  {
   "cell_type": "code",
   "execution_count": 75,
   "metadata": {
    "tags": []
   },
   "outputs": [
    {
     "output_type": "stream",
     "name": "stdout",
     "text": "212688.52000000002\n"
    }
   ],
   "source": [
    "# Задание 1.30(а)\n",
    "x = float(input('Введите значение \"X\": '))\n",
    "y = float(input('Введите значение \"Y\": '))\n",
    "z = x**3 - 2.5*x*y + 1.78*(x**2) - 2.5*y + 1\n",
    "print(z)"
   ]
  },
  {
   "cell_type": "code",
   "execution_count": 76,
   "metadata": {
    "tags": []
   },
   "outputs": [
    {
     "output_type": "stream",
     "name": "stdout",
     "text": "991586883.8484532\n"
    }
   ],
   "source": [
    "# Задание 1.30(б)\n",
    "a = float(input('Введите значение \"A\": '))\n",
    "b = float(input('Введите значение \"B\": '))\n",
    "x = 3.56*a + b**3 - 5.8*(b**2) + 3.8*a - 1.5\n",
    "print(x)"
   ]
  },
  {
   "cell_type": "code",
   "execution_count": 86,
   "metadata": {
    "tags": []
   },
   "outputs": [
    {
     "output_type": "stream",
     "name": "stdout",
     "text": "8.0\n7.9\n"
    }
   ],
   "source": [
    "# Задание 1.31\n",
    "import math\n",
    "a = int(input('Введите значение \"A\": '))\n",
    "b = int(input('Введите значение \"B\": '))\n",
    "x = ((a+b)/2)\n",
    "y = (math.sqrt(a*b))\n",
    "print(round(x, 1))\n",
    "print(round(y, 1))"
   ]
  },
  {
   "cell_type": "code",
   "execution_count": null,
   "metadata": {},
   "outputs": [],
   "source": []
  }
 ]
}