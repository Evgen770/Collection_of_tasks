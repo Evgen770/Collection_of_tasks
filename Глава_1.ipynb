{
 "metadata": {
  "language_info": {
   "codemirror_mode": {
    "name": "ipython",
    "version": 3
   },
   "file_extension": ".py",
   "mimetype": "text/x-python",
   "name": "python",
   "nbconvert_exporter": "python",
   "pygments_lexer": "ipython3",
   "version": "3.8.1-final"
  },
  "orig_nbformat": 2,
  "kernelspec": {
   "name": "python_defaultSpec_1600253447892",
   "display_name": "Python 3.8.1 64-bit"
  }
 },
 "nbformat": 4,
 "nbformat_minor": 2,
 "cells": [
  {
   "cell_type": "code",
   "execution_count": 5,
   "metadata": {
    "tags": []
   },
   "outputs": [
    {
     "output_type": "stream",
     "name": "stdout",
     "text": "3.14\n"
    }
   ],
   "source": [
    "# Задание 1.1\n",
    "import math\n",
    "print(round(math.pi, 2))"
   ]
  },
  {
   "cell_type": "code",
   "execution_count": 6,
   "metadata": {
    "tags": []
   },
   "outputs": [
    {
     "output_type": "stream",
     "name": "stdout",
     "text": "2.72\n"
    }
   ],
   "source": [
    "# Задание 1.2\n",
    "import math\n",
    "print(round(math.e, 2))"
   ]
  },
  {
   "cell_type": "code",
   "execution_count": 7,
   "metadata": {
    "tags": []
   },
   "outputs": [
    {
     "output_type": "stream",
     "name": "stdout",
     "text": "Вы ввели число: 72\n"
    }
   ],
   "source": [
    "# Задание 1.3\n",
    "x = int(input('Введите число: '))\n",
    "print(f'Вы ввели число: {x}')"
   ]
  },
  {
   "cell_type": "code",
   "execution_count": 8,
   "metadata": {
    "tags": []
   },
   "outputs": [
    {
     "output_type": "stream",
     "name": "stdout",
     "text": "33-вот какое число Вы ввели\n"
    }
   ],
   "source": [
    "# Задание 1.4\n",
    "x = int(input('Введите число: '))\n",
    "print(f'{x} - вот какое число Вы ввели')"
   ]
  },
  {
   "cell_type": "code",
   "execution_count": 11,
   "metadata": {
    "tags": []
   },
   "outputs": [
    {
     "output_type": "stream",
     "name": "stdout",
     "text": "1 13 49\n"
    }
   ],
   "source": [
    "# Задание 1.5\n",
    "print('1 13 49')"
   ]
  },
  {
   "cell_type": "code",
   "execution_count": 12,
   "metadata": {
    "tags": []
   },
   "outputs": [
    {
     "output_type": "stream",
     "name": "stdout",
     "text": "7  15  100\n"
    }
   ],
   "source": [
    "# Задание 1.6\n",
    "print('7  15  100')"
   ]
  },
  {
   "cell_type": "code",
   "execution_count": 15,
   "metadata": {
    "tags": []
   },
   "outputs": [
    {
     "output_type": "stream",
     "name": "stdout",
     "text": "72  60  22\n"
    }
   ],
   "source": [
    "# Задание 1.7\n",
    "import random\n",
    "a = random.randrange(0, 100)\n",
    "b = random.randrange(0, 100)\n",
    "c = random.randrange(0, 100)\n",
    "print(f'{a}  {b}  {c}')"
   ]
  },
  {
   "cell_type": "code",
   "execution_count": 16,
   "metadata": {
    "tags": []
   },
   "outputs": [
    {
     "output_type": "stream",
     "name": "stdout",
     "text": "79 57 97 44\n"
    }
   ],
   "source": [
    "# Задание 1.8\n",
    "import random\n",
    "a = random.randrange(0, 100)\n",
    "b = random.randrange(0, 100)\n",
    "c = random.randrange(0, 100)\n",
    "d = random.randrange(0, 100)\n",
    "print(f'{a} {b} {c} {d}')"
   ]
  },
  {
   "cell_type": "code",
   "execution_count": 21,
   "metadata": {
    "tags": []
   },
   "outputs": [
    {
     "output_type": "stream",
     "name": "stdout",
     "text": "50\n10\n"
    }
   ],
   "source": [
    "# Задание 1.9\n",
    "a = 50\n",
    "b = 10\n",
    "print(f'{a}\\n{b}')"
   ]
  },
  {
   "cell_type": "code",
   "execution_count": 1,
   "metadata": {
    "tags": []
   },
   "outputs": [
    {
     "output_type": "stream",
     "name": "stdout",
     "text": "5\n10\n21\n"
    }
   ],
   "source": [
    "# Задание 1.10\n",
    "a = 5\n",
    "b = 10\n",
    "c = 21\n",
    "print(f'{a}\\n{b}\\n{c}')"
   ]
  },
  {
   "cell_type": "code",
   "execution_count": 2,
   "metadata": {
    "tags": []
   },
   "outputs": [
    {
     "output_type": "stream",
     "name": "stdout",
     "text": "95\n77\n15\n81\n"
    }
   ],
   "source": [
    "# Задание 1.11\n",
    "import random\n",
    "a = random.randrange(0, 100)\n",
    "b = random.randrange(0, 100)\n",
    "c = random.randrange(0, 100)\n",
    "d = random.randrange(0, 100)\n",
    "print(f'{a}\\n{b}\\n{c}\\n{d}')"
   ]
  },
  {
   "cell_type": "code",
   "execution_count": 3,
   "metadata": {
    "tags": []
   },
   "outputs": [
    {
     "output_type": "stream",
     "name": "stdout",
     "text": "5 10\n7 см\n"
    }
   ],
   "source": [
    "# Задание 1.12(а)\n",
    "a = 5\n",
    "b = 10 \n",
    "c = 7\n",
    "print(f'{a} {b}\\n{c} см')"
   ]
  },
  {
   "cell_type": "code",
   "execution_count": 4,
   "metadata": {
    "tags": []
   },
   "outputs": [
    {
     "output_type": "stream",
     "name": "stdout",
     "text": "100 10\n1949 33\n"
    }
   ],
   "source": [
    "# Задание 1.12(б)\n",
    "a = 100\n",
    "b =1949\n",
    "t = int(input('Введите число: '))\n",
    "v = int(input('Введите число: '))\n",
    "print(f'{a} {t}\\n{b} {v}')"
   ]
  },
  {
   "cell_type": "code",
   "execution_count": 8,
   "metadata": {
    "tags": []
   },
   "outputs": [
    {
     "output_type": "stream",
     "name": "stdout",
     "text": "11 25\n11 33\n"
    }
   ],
   "source": [
    "# Задание 1.12(в)\n",
    "a = 25\n",
    "x = int(input('Введите число: '))\n",
    "y = int(input('Введите число: '))\n",
    "print(f'{x} {a}\\n{x} {y}')"
   ]
  },
  {
   "cell_type": "code",
   "execution_count": null,
   "metadata": {},
   "outputs": [],
   "source": [
    "# Задание 1.13\n",
    "\n"
   ]
  }
 ]
}