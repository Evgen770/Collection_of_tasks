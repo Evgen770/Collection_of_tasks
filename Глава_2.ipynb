{
 "metadata": {
  "language_info": {
   "codemirror_mode": {
    "name": "ipython",
    "version": 3
   },
   "file_extension": ".py",
   "mimetype": "text/x-python",
   "name": "python",
   "nbconvert_exporter": "python",
   "pygments_lexer": "ipython3",
   "version": "3.8.1-final"
  },
  "orig_nbformat": 2,
  "kernelspec": {
   "name": "python3",
   "display_name": "Python 3.8.1 64-bit",
   "metadata": {
    "interpreter": {
     "hash": "1baa965d5efe3ac65b79dfc60c0d706280b1da80fedb7760faf2759126c4f253"
    }
   }
  }
 },
 "nbformat": 4,
 "nbformat_minor": 2,
 "cells": [
  {
   "cell_type": "code",
   "execution_count": null,
   "metadata": {},
   "outputs": [],
   "source": [
    "# Задание 2.1\n",
    "cm = float(input('Введите расстояние в сантиметрах: '))\n",
    "\n",
    "print(f'Число полных метров равно: {int(cm // 100)}')"
   ]
  },
  {
   "cell_type": "code",
   "execution_count": null,
   "metadata": {},
   "outputs": [],
   "source": [
    "# Задание 2.2\n",
    "kg = float(input('Введите массу в килограммах: '))\n",
    "\n",
    "print(f'Число полных центнеров равно: {int(kg // 100)}')"
   ]
  },
  {
   "cell_type": "code",
   "execution_count": null,
   "metadata": {},
   "outputs": [],
   "source": [
    "# Задание 2.3\n",
    "kg = float(input('Введите массу в килограммах: '))\n",
    "\n",
    "print(f'Число полных тонн равно: {int(kg // 1000)}')"
   ]
  },
  {
   "cell_type": "code",
   "execution_count": null,
   "metadata": {},
   "outputs": [],
   "source": [
    "# Задание 2.4\n",
    "m = float(input('Введите расстояние в метрах: '))\n",
    "\n",
    "print(f'Число полных километров равно: {int(m // 1000)}')"
   ]
  },
  {
   "cell_type": "code",
   "execution_count": null,
   "metadata": {},
   "outputs": [],
   "source": [
    "# Задание 2.5\n",
    "x = 234\n",
    "\n",
    "print(f'Прошло {x // 7} полных недель')"
   ]
  },
  {
   "cell_type": "code",
   "execution_count": null,
   "metadata": {},
   "outputs": [],
   "source": [
    "# Задание 2.6\n",
    "sek = float(input('Введите массу в секундах: '))\n",
    "\n",
    "#(а)\n",
    "print(f'С начала суток прошло {int(sek // 3600)} полных часов')\n",
    "\n",
    "#(б)\n",
    "print(f'{int(sek % 3600) // 60} полных минут прошло с начала очередного часа')\n",
    "\n",
    "#(в)\n",
    "print(f'{int(sek % 60)} полных секунд прошло с начала очередной минуты')"
   ]
  },
  {
   "cell_type": "code",
   "execution_count": null,
   "metadata": {},
   "outputs": [],
   "source": [
    "# Задание 2.7\n",
    "\n",
    "print(f'{543 // 130} квадрата со стороной 130 мм можно отрезать от прямоугольника с размерами 543х130 мм')"
   ]
  },
  {
   "cell_type": "code",
   "execution_count": null,
   "metadata": {},
   "outputs": [],
   "source": [
    "# Задание 2.8"
   ]
  }
 ]
}