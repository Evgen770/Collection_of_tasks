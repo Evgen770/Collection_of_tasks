{
 "metadata": {
  "language_info": {
   "codemirror_mode": {
    "name": "ipython",
    "version": 3
   },
   "file_extension": ".py",
   "mimetype": "text/x-python",
   "name": "python",
   "nbconvert_exporter": "python",
   "pygments_lexer": "ipython3",
   "version": "3.8.1-final"
  },
  "orig_nbformat": 2,
  "kernelspec": {
   "name": "python3",
   "display_name": "Python 3.8.1 64-bit",
   "metadata": {
    "interpreter": {
     "hash": "1baa965d5efe3ac65b79dfc60c0d706280b1da80fedb7760faf2759126c4f253"
    }
   }
  }
 },
 "nbformat": 4,
 "nbformat_minor": 2,
 "cells": [
  {
   "cell_type": "code",
   "execution_count": null,
   "metadata": {},
   "outputs": [],
   "source": [
    "# Задание 2.1\n",
    "cm = float(input('Введите расстояние в сантиметрах: '))\n",
    "\n",
    "print(f'Число полных метров равно: {int(cm // 100)}')"
   ]
  },
  {
   "cell_type": "code",
   "execution_count": null,
   "metadata": {},
   "outputs": [],
   "source": [
    "# Задание 2.2\n",
    "kg = float(input('Введите массу в килограммах: '))\n",
    "\n",
    "print(f'Число полных центнеров равно: {int(kg // 100)}')"
   ]
  },
  {
   "cell_type": "code",
   "execution_count": null,
   "metadata": {},
   "outputs": [],
   "source": [
    "# Задание 2.3\n",
    "kg = float(input('Введите массу в килограммах: '))\n",
    "\n",
    "print(f'Число полных тонн равно: {int(kg // 1000)}')"
   ]
  },
  {
   "cell_type": "code",
   "execution_count": null,
   "metadata": {},
   "outputs": [],
   "source": [
    "# Задание 2.4\n",
    "m = float(input('Введите расстояние в метрах: '))\n",
    "\n",
    "print(f'Число полных километров равно: {int(m // 1000)}')"
   ]
  },
  {
   "cell_type": "code",
   "execution_count": null,
   "metadata": {},
   "outputs": [],
   "source": [
    "# Задание 2.5\n",
    "x = 234\n",
    "\n",
    "print(f'Прошло {x // 7} полных недель')"
   ]
  },
  {
   "cell_type": "code",
   "execution_count": null,
   "metadata": {},
   "outputs": [],
   "source": [
    "# Задание 2.6\n",
    "sek = float(input('Введите массу в секундах: '))\n",
    "\n",
    "#(а)\n",
    "print(f'С начала суток прошло {int(sek // 3600)} полных часов')\n",
    "\n",
    "#(б)\n",
    "print(f'{int(sek % 3600) // 60} полных минут прошло с начала очередного часа')\n",
    "\n",
    "#(в)\n",
    "print(f'{int(sek % 60)} полных секунд прошло с начала очередной минуты')"
   ]
  },
  {
   "cell_type": "code",
   "execution_count": null,
   "metadata": {},
   "outputs": [],
   "source": [
    "# Задание 2.7\n",
    "\n",
    "print(f'{543 // 130} квадрата со стороной 130 мм можно отрезать от прямоугольника с размерами 543х130 мм')"
   ]
  },
  {
   "cell_type": "code",
   "execution_count": null,
   "metadata": {},
   "outputs": [],
   "source": [
    "# Задание 2.8\n",
    "m = int(input('Введите целое число от 1 до 365 включительно: '))\n",
    "\n",
    "def func_name(a, b):\n",
    "    if a >= 1 and a <= 365:\n",
    "        if b != 1:\n",
    "            n = (a + b - 1) % 7\n",
    "            return(n)\n",
    "        else:\n",
    "            n = a % 7\n",
    "            return(n)   \n",
    "    else:\n",
    "        print('Число должно быть от 1 до 365 включительно')    \n",
    "      \n",
    "#(a)\n",
    "print(func_name(m, 1))\n",
    "\n",
    "#(б)\n",
    "print(func_name(m, 2))\n",
    "\n",
    "#(в)\n",
    "d = int(input('Введите день недели \"d\" (если 1 января — понедельник, то d=1 , если вторник d=2 , ..., если воскресенье — d=7 ) : '))\n",
    "\n",
    "print(func_name(m, d))\n"
   ]
  },
  {
   "cell_type": "code",
   "execution_count": null,
   "metadata": {},
   "outputs": [],
   "source": [
    "# Задание 2.9\n",
    "n = int(input('Введите количество месяцев \"n\": '))\n",
    "\n",
    "x = n % 12\n",
    "print(x + 1)\n"
   ]
  },
  {
   "cell_type": "code",
   "execution_count": null,
   "metadata": {},
   "outputs": [],
   "source": [
    "# Задание 2.10\n",
    "n = int(input('Введите двузначное число: '))\n",
    "\n",
    "#(а)\n",
    "desyatki = n // 10\n",
    "\n",
    "#(б)\n",
    "edinici = n % 10\n",
    "\n",
    "#(в)\n",
    "summa =  desyatki + edinici\n",
    "\n",
    "#(г)\n",
    "proizved = desyatki * edinici\n",
    "\n",
    "print(f'Число десятков = {desyatki}', f'Число единиц = {edinici}', f'Сумма цифр = {summa}', f'Произведение цифр = {proizved}', sep='\\n')"
   ]
  },
  {
   "cell_type": "code",
   "execution_count": null,
   "metadata": {},
   "outputs": [],
   "source": [
    "# Задание 2.11\n",
    "n = int(input('Введите двузначное число: '))\n",
    "\n",
    "desyatki = str(n // 10)\n",
    "edinici = str(n % 10)\n",
    "x = int(edinici + desyatki)\n",
    "print(x)\n",
    "print(type(x))"
   ]
  },
  {
   "cell_type": "code",
   "execution_count": null,
   "metadata": {},
   "outputs": [],
   "source": [
    "# Задание 2.12\n",
    "n = int(input('Введите трехзначное число: '))\n",
    "\n",
    "#(а)\n",
    "desyatki = n // 10\n",
    "\n",
    "#(б)\n",
    "edinici = n % 10\n",
    "\n",
    "#(в)\n",
    "summa =  (desyatki // 10) + (desyatki % 10) + edinici\n",
    "\n",
    "#(г)\n",
    "proizved = (desyatki // 10) * (desyatki % 10) * edinici\n",
    "\n",
    "print(f'Число десятков = {desyatki}', f'Число единиц = {edinici}', f'Сумма цифр = {summa}', f'Произведение цифр = {proizved}', sep='\\n')"
   ]
  },
  {
   "cell_type": "code",
   "execution_count": null,
   "metadata": {},
   "outputs": [],
   "source": [
    "# Задание 2.13\n",
    "n = int(input('Введите трехзначное число: '))\n",
    "\n",
    "x = str(n // 100)\n",
    "\n",
    "y = str((n // 10) % 10)\n",
    "\n",
    "e = str(n % 10)\n",
    "\n",
    "print(int(e + y + x))\n",
    "\n",
    "\n"
   ]
  },
  {
   "cell_type": "code",
   "execution_count": null,
   "metadata": {},
   "outputs": [],
   "source": []
  }
 ]
}